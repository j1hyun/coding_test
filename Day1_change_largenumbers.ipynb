{
 "cells": [
  {
   "cell_type": "markdown",
   "metadata": {},
   "source": [
    "# <1> 거스름돈 p.87"
   ]
  },
  {
   "cell_type": "markdown",
   "metadata": {},
   "source": [
    "## 내 풀이"
   ]
  },
  {
   "cell_type": "code",
   "execution_count": 2,
   "metadata": {},
   "outputs": [
    {
     "name": "stdout",
     "output_type": "stream",
     "text": [
      "동전의 최소 개수:  175902573\n",
      "시간:  0.0009951591491699219\n"
     ]
    }
   ],
   "source": [
    "import time\n",
    "start = time.time() \n",
    "\n",
    "a=b=c=d=0\n",
    "# N = int(input(\"거스름돈 잔액을 입력하세요: \"))\n",
    "\n",
    "N=87951284850\n",
    "\n",
    "if (N/500>0):\n",
    "    a=N//500\n",
    "    N=N%500\n",
    "if(N/100>0):\n",
    "    b=N//100\n",
    "    N=N%100\n",
    "if(N/50>0):\n",
    "    c=N//50\n",
    "    N=N%50\n",
    "if(N/10>0):\n",
    "    d=N//10\n",
    "\n",
    "count=a+b+c+d\n",
    "print(\"동전의 최소 개수: \", count)\n",
    "print(\"시간: \", time.time()-start)"
   ]
  },
  {
   "cell_type": "markdown",
   "metadata": {},
   "source": [
    "## 정답 풀이"
   ]
  },
  {
   "cell_type": "code",
   "execution_count": 3,
   "metadata": {},
   "outputs": [
    {
     "name": "stdout",
     "output_type": "stream",
     "text": [
      "동전의 최소 개수:  175902573\n",
      "시간:  0.0\n"
     ]
    }
   ],
   "source": [
    "import time\n",
    "start = time.time() \n",
    "\n",
    "# N = int(input(\"거스름돈 잔액을 입력하세요: \"))\n",
    "# N=int(N)\n",
    "N=87951284850\n",
    "\n",
    "count=0\n",
    "coin_types=[500,100,50,10]\n",
    "\n",
    "for coin in coin_types:\n",
    "    count += N // coin\n",
    "    N %= coin\n",
    "\n",
    "print(\"동전의 최소 개수: \", count)\n",
    "print(\"시간: \", time.time()-start)"
   ]
  },
  {
   "cell_type": "markdown",
   "metadata": {},
   "source": [
    "### 처리 시간 비슷, 결과 같음 \n",
    "### 시간 복잡도 (1)O(N), (2) O(N) ???"
   ]
  },
  {
   "cell_type": "markdown",
   "metadata": {},
   "source": [
    "# <2> 큰 수의 법칙 p. 92"
   ]
  },
  {
   "cell_type": "markdown",
   "metadata": {},
   "source": [
    "## 내 풀이"
   ]
  },
  {
   "cell_type": "code",
   "execution_count": 4,
   "metadata": {},
   "outputs": [
    {
     "name": "stdout",
     "output_type": "stream",
     "text": [
      "5 8 3\n",
      "2 4 6 4 5\n",
      "46\n",
      "시간:  0.001995563507080078\n"
     ]
    }
   ],
   "source": [
    "import time\n",
    "\n",
    "N, M, K = map(int,input().split())\n",
    "a = list(map(int, input().split()))\n",
    "start = time.time() \n",
    "\n",
    "b=list(a) \n",
    "b.remove(max(a)) # 두 번째 큰 수를 구하기 위하여 같은 배열 복사 후 큰 값 제거. 그 뒤 max 값 구함\n",
    "\n",
    "large_point=0\n",
    "\n",
    "for i in range(M//(K+1)):\n",
    "    for j in range(K):\n",
    "        large_point+= max(a)\n",
    "for p in range(M-(M//(K+1)*K)):\n",
    "        large_point+=max(b)\n",
    "\n",
    "\n",
    "print(large_point)\n",
    "print(\"시간: \", time.time()-start)\n"
   ]
  },
  {
   "cell_type": "markdown",
   "metadata": {},
   "source": [
    "## 정답 풀이"
   ]
  },
  {
   "cell_type": "code",
   "execution_count": 7,
   "metadata": {
    "scrolled": true
   },
   "outputs": [
    {
     "name": "stdout",
     "output_type": "stream",
     "text": [
      "5 8 3\n",
      "2 4 6 4 5\n",
      "46\n",
      "시간:  0.0009970664978027344\n"
     ]
    }
   ],
   "source": [
    "import time\n",
    "\n",
    "N, M, K = map(int,input().split())\n",
    "a = list(map(int, input().split()))\n",
    "start = time.time() \n",
    "\n",
    "a.sort()\n",
    "first = a[N-1]\n",
    "second = a[N-2]\n",
    "\n",
    "result = 0\n",
    "\n",
    "while True:\n",
    "    for i in range(K):\n",
    "        if M==0:\n",
    "            break\n",
    "        result += first\n",
    "        M-=1\n",
    "    if M==0:\n",
    "        break\n",
    "    result +=second\n",
    "    M-=1\n",
    "print(result)\n",
    "print(\"시간: \", time.time()-start)"
   ]
  },
  {
   "cell_type": "code",
   "execution_count": 8,
   "metadata": {},
   "outputs": [
    {
     "name": "stdout",
     "output_type": "stream",
     "text": [
      "5 8 3\n",
      "2 4 6 4 5\n",
      "46\n",
      "시간:  0.0\n"
     ]
    }
   ],
   "source": [
    "import time\n",
    "\n",
    "N, M, K = map(int,input().split())\n",
    "a = list(map(int, input().split()))\n",
    "start = time.time() \n",
    "\n",
    "a.sort()\n",
    "first = a[N-1]\n",
    "second = a[N-2]\n",
    "\n",
    "# 가장 큰 수가 더해지는 횟수 계산\n",
    "\n",
    "count = int(M/(K+1)) * K\n",
    "count += M %(K+1) # (K+1)로 딱 떨어지지 않는 경우 나머지의 수를 더 더한 만큼 큰 수를 반복해 더하기 때문\n",
    "\n",
    "result = 0\n",
    "result += (count) * first # 가장 큰 수 더하기\n",
    "result +=(M - count) * second\n",
    "\n",
    "print(result)\n",
    "print(\"시간: \", time.time()-start)"
   ]
  },
  {
   "cell_type": "markdown",
   "metadata": {},
   "source": [
    "### 처리 시간 정답 코드가 짧음, 결과 같음 \n",
    "### 시간 복잡도 (1)O(N), (2) O(N) ???\n",
    "내 코드와 (2)번 정답 코드 비슷함. 그런데 내 코드의 값이 맞는지 모르겠음 조금 더 돌려 볼 필요가 있음"
   ]
  },
  {
   "cell_type": "markdown",
   "metadata": {},
   "source": [
    "## 오늘 내용 정리\n",
    "1. 다수의 자연수 입력받기  \n",
    "ex) a,b,c = map(int, input().split()) # split()은 공백으로 구분, 다른 기호로 구분하고 싶으면 .split('/')등으로 추가하면 됨  \n",
    "  \n",
    "2. 자연수로 이루어진 배열 입력받기  \n",
    "ex) a = list(map. int, input().split()) # 위와 비슷함. 그 앞에 list()를 추가하면 배열로 입력받을 수 있음  \n",
    "  \n",
    "3. 배열 복사  \n",
    "ex) a= [1,2,3]  \n",
    "(1) b=a # 얕은 복사, 이런 식으로 복사하면 b의 값을 바꿨을 때  a의 값도 같이 바뀜  \n",
    "(2) b=list(a) # 깊은 복사, b의 값을 바꾸어도 a의 값이 변하지 않음  \n",
    "  \n",
    "4. 배열 정렬  \n",
    "ex) a.sort() # 배열을 오름차순으로 정리할 수 있음. 가장 큰 수를 구하기 위해서는 a[n-1]을, 그 다음으로 큰 수를 구하기 위해서는 a[n-2]를 구하면 됨  \n"
   ]
  },
  {
   "cell_type": "code",
   "execution_count": null,
   "metadata": {},
   "outputs": [],
   "source": []
  }
 ],
 "metadata": {
  "kernelspec": {
   "display_name": "Python 3",
   "language": "python",
   "name": "python3"
  },
  "language_info": {
   "codemirror_mode": {
    "name": "ipython",
    "version": 3
   },
   "file_extension": ".py",
   "mimetype": "text/x-python",
   "name": "python",
   "nbconvert_exporter": "python",
   "pygments_lexer": "ipython3",
   "version": "3.8.3"
  }
 },
 "nbformat": 4,
 "nbformat_minor": 4
}
