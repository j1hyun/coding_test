{
 "cells": [
  {
   "cell_type": "markdown",
   "metadata": {},
   "source": [
    "# <9-3> 전보 p.262"
   ]
  },
  {
   "cell_type": "markdown",
   "metadata": {},
   "source": [
    "## 내 풀이"
   ]
  },
  {
   "cell_type": "code",
   "execution_count": 1,
   "metadata": {},
   "outputs": [
    {
     "name": "stdout",
     "output_type": "stream",
     "text": [
      "3 2 1\n",
      "1 2 4\n",
      "1 3 2\n",
      "2   4\n"
     ]
    }
   ],
   "source": [
    "# 플로이드 워셜 알고리즘을 이용해 풀이\n",
    "N, M, C = map(int, input().split())\n",
    "\n",
    "INF = int(1e9)\n",
    "\n",
    "graph = [[INF] * (N+1) for _ in range(N+1)]\n",
    "\n",
    "for a in range(1, N+1):\n",
    "    for b in range(1, N+1):\n",
    "        if a == b:\n",
    "            graph[a][b]=0\n",
    "\n",
    "for _ in range(M):\n",
    "    a,b,c = map(int, input().split())\n",
    "    graph[a][b] = c\n",
    "    \n",
    "for k in range(1, N+1):\n",
    "    for a in range(1, N+1):\n",
    "        for b in range(1, N+1):\n",
    "            graph[a][b] = min(graph[a][b], graph[a][k]+graph[k][b])\n",
    "\n",
    "count = 0\n",
    "time_list=[]\n",
    "for i in range(1,N+1):\n",
    "    if graph[C][i] in range(1,INF):\n",
    "        count+=1\n",
    "        time_list.append(graph[C][i])\n",
    "\n",
    "time=max(time_list) # INF가 아닌 값 중 가장 큰 값이 총 걸린 시간\n",
    "\n",
    "print(count, \" \", time)\n"
   ]
  },
  {
   "cell_type": "markdown",
   "metadata": {},
   "source": [
    "## 정답 풀이"
   ]
  },
  {
   "cell_type": "code",
   "execution_count": 2,
   "metadata": {},
   "outputs": [
    {
     "name": "stdout",
     "output_type": "stream",
     "text": [
      "3 2 1\n",
      "1 2 4\n",
      "1 3 2\n",
      "2 4\n"
     ]
    }
   ],
   "source": [
    "import heapq\n",
    "#import sys\n",
    "\n",
    "#input=sys.stdin.readline\n",
    "INF = int(1e9)\n",
    "\n",
    "n, m, start = map(int, input().split())  # 노드 개수, 간선 개수\n",
    "\n",
    "graph = [[] for i in range(n + 1)]\n",
    "\n",
    "visited = [False] * (n + 1)\n",
    "\n",
    "distance = [INF] * (n + 1)\n",
    "\n",
    "for _ in range(m):\n",
    "    a, b, c = map(int, input().split())  # a번 노드에서 b번 노드로 가는 비용이 c\n",
    "    graph[a].append((b, c))\n",
    "\n",
    "\n",
    "def dijkstra(start):\n",
    "    q=[]\n",
    "    heapq.heappush(q, (0, start))\n",
    "    distance[start] = 0\n",
    "    while q:\n",
    "        dist, now = heapq.heappop(q)\n",
    "        if distance[now] <dist:\n",
    "            continue\n",
    "        for i in graph[now]:\n",
    "            cost = dist + i[1]\n",
    "            if cost<distance[i[0]]:\n",
    "                distance[i[0]] = cost\n",
    "                heapq.heappush(q, (cost, i[0]))\n",
    "\n",
    "\n",
    "dijkstra(start)\n",
    "\n",
    "count = 0\n",
    "\n",
    "max_distance = 0\n",
    "\n",
    "for d in distance:\n",
    "    if d!=INF:\n",
    "        count+=1\n",
    "        max_distance=max(max_distance, d)\n",
    "\n",
    "print(count -1, max_distance)"
   ]
  },
  {
   "cell_type": "markdown",
   "metadata": {},
   "source": [
    "모든 범위의 최단 경로가 필요한 것이 아니라 특정 한 도시에서 다른 도시까지의 최단 경로를 구하는 것이고, n과 m의 범위가 충분히 크므로 우선순위 큐를 이용하여 다익스트라 알고리즘 작성"
   ]
  },
  {
   "cell_type": "markdown",
   "metadata": {},
   "source": [
    "## 오늘 내용 정리\n",
    "\n",
    "1. between  \n",
    "python에서 between은 range(a,b)로 나타낼 수 있다.  \n",
    "ex) if a in range(1, 10)  \n",
    "> a가 1이상 10 미만이면  \n",
    "  \n",
    "2. 반복문 내에 사용한 변수는 밖의 변수와 다르게 설정"
   ]
  },
  {
   "cell_type": "code",
   "execution_count": null,
   "metadata": {},
   "outputs": [],
   "source": []
  }
 ],
 "metadata": {
  "kernelspec": {
   "display_name": "Python 3",
   "language": "python",
   "name": "python3"
  },
  "language_info": {
   "codemirror_mode": {
    "name": "ipython",
    "version": 3
   },
   "file_extension": ".py",
   "mimetype": "text/x-python",
   "name": "python",
   "nbconvert_exporter": "python",
   "pygments_lexer": "ipython3",
   "version": "3.8.3"
  }
 },
 "nbformat": 4,
 "nbformat_minor": 4
}
