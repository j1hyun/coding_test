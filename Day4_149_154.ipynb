{
 "cells": [
  {
   "cell_type": "markdown",
   "metadata": {},
   "source": [
    "# <5-3> 음료수 얼려 먹기 p.149"
   ]
  },
  {
   "cell_type": "markdown",
   "metadata": {},
   "source": [
    "## 정답 풀이  \n",
    "내 코드는 추후 추가 예정"
   ]
  },
  {
   "cell_type": "code",
   "execution_count": 23,
   "metadata": {},
   "outputs": [
    {
     "name": "stdout",
     "output_type": "stream",
     "text": [
      "5 6\n",
      "101010\n",
      "111111\n",
      "000001\n",
      "111111\n",
      "111111\n",
      "2\n",
      "1\n"
     ]
    }
   ],
   "source": [
    "n, m = map(int, input().split())\n",
    "\n",
    "data_list=[]\n",
    "for i in range(n):\n",
    "    data_list.append(list(map(int, input())))\n",
    "\n",
    "\n",
    "def dfs(x,y):\n",
    "    if x<=-1 or x>=n or y <=-1 or y>=m:\n",
    "        return False\n",
    "    if data_list[x][y]==0:\n",
    "        data_list[x][y]=1\n",
    "        dfs(x-1, y)\n",
    "        dfs(x, y-1)\n",
    "        dfs(x+1, y)\n",
    "        dfs(x, y+1)\n",
    "        return True\n",
    "    return False\n",
    "\n",
    "count=0\n",
    "for i in range(n):\n",
    "    for j in range(m):\n",
    "        if dfs(i, j)==True:\n",
    "            count+=1\n",
    "\n",
    "print(count)"
   ]
  },
  {
   "cell_type": "markdown",
   "metadata": {},
   "source": [
    "def dfs를 어떻게 정의해야 할지 몰라서 책 답안을 보고 참고하였다.   \n",
    "값이 0인 곳에서 방문하면 1로 바꾸고 상, 하, 좌, 우를 모두 탐색하여 전부 1로 바뀌면 그때 탐색을 종료하고 True로 반환한다.  \n",
    "True로 반환된 값의 개수를 찾아 아이스크림 개수를 찾을 수 있다.  "
   ]
  },
  {
   "cell_type": "markdown",
   "metadata": {},
   "source": [
    "## 정답 풀이  \n",
    "내 코드는 추후 추가 예정"
   ]
  },
  {
   "cell_type": "code",
   "execution_count": 25,
   "metadata": {},
   "outputs": [
    {
     "name": "stdout",
     "output_type": "stream",
     "text": [
      "5 6\n",
      "101010\n",
      "111111\n",
      "000001\n",
      "111111\n",
      "111111\n",
      "10\n"
     ]
    }
   ],
   "source": [
    "\n",
    "from collections import deque\n",
    "\n",
    "n, m = map(int, input().split())\n",
    "\n",
    "data_list=[]\n",
    "for i in range(n):\n",
    "    data_list.append(list(map(int, input())))\n",
    "\n",
    "dx=[-1, 1, 0, 0]\n",
    "dy=[0, 0, -1, 1]\n",
    "\n",
    "def bfs(x,y):\n",
    "    queue = deque()\n",
    "    queue.append((x,y))\n",
    "    while queue:\n",
    "        x,y = queue.popleft()\n",
    "        for i in range(4):\n",
    "            nx = x+dx[i]\n",
    "            ny = y+dy[i]\n",
    "            \n",
    "            if nx<0 or ny<0 or nx>=n or ny>=m:\n",
    "                continue\n",
    "            if data_list[nx][ny]==0: #벽인 경우 무시\n",
    "                continue\n",
    "            if data_list[nx][ny]==1:\n",
    "                data_list[nx][ny] = data_list[x][y]+1\n",
    "                queue.append((nx, ny))\n",
    "    return data_list[n-1][m-1]\n",
    "\n",
    "print(bfs(0,0))"
   ]
  },
  {
   "cell_type": "markdown",
   "metadata": {},
   "source": [
    "def bfs를 어떻게 정의해야 할지 몰라서 책 답안을 보고 참고하였다.   \n",
    "값이 1인 곳에서 방문하면 전 값의+1로 바꾸고 상, 하, 좌, 우를 모두 탐색하여 가까운 곳을 방문해 그 값을 전 값 +1로 하여 n-1, m-1까지 탐색한다.  \n",
    "전체를 반복한 후 배열의 마지막 값을 출력하면 최소 칸의 개수를 구할 수 있다.  "
   ]
  },
  {
   "cell_type": "code",
   "execution_count": null,
   "metadata": {},
   "outputs": [],
   "source": []
  }
 ],
 "metadata": {
  "kernelspec": {
   "display_name": "Python 3",
   "language": "python",
   "name": "python3"
  }
 },
 "nbformat": 4,
 "nbformat_minor": 4
}
