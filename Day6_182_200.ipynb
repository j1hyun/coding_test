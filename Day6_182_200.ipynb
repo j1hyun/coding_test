{
 "cells": [
  {
   "cell_type": "markdown",
   "metadata": {},
   "source": [
    "# <6-4> 두 배열의 원소 교체 p.182"
   ]
  },
  {
   "cell_type": "markdown",
   "metadata": {},
   "source": [
    "## 내 풀이"
   ]
  },
  {
   "cell_type": "code",
   "execution_count": 7,
   "metadata": {
    "scrolled": true
   },
   "outputs": [
    {
     "name": "stdout",
     "output_type": "stream",
     "text": [
      "5 3\n",
      "1 2 5 4 3\n",
      "5 5 6 6 5\n",
      "26\n"
     ]
    }
   ],
   "source": [
    "n, k = map(int, input().split())\n",
    "\n",
    "array_a = list(map(int, input().split()))\n",
    "array_b = list(map(int, input().split()))\n",
    "\n",
    "for i in range(k):\n",
    "    a_min = min(array_a)\n",
    "    b_max = max(array_b)\n",
    "    \n",
    "    min_index = array_a.index(a_min)\n",
    "    max_index = array_b.index(b_max)\n",
    "    if a_min<b_max:\n",
    "        array_a[min_index],array_b[max_index] = array_b[max_index], array_a[min_index]\n",
    "    else: break\n",
    "\n",
    "print(sum(array_a))"
   ]
  },
  {
   "cell_type": "markdown",
   "metadata": {},
   "source": [
    "## 정답 풀이"
   ]
  },
  {
   "cell_type": "code",
   "execution_count": 8,
   "metadata": {
    "scrolled": true
   },
   "outputs": [
    {
     "name": "stdout",
     "output_type": "stream",
     "text": [
      "5 3\n",
      "1 2 5 4 3\n",
      "5 5 6 6 5\n",
      "26\n"
     ]
    }
   ],
   "source": [
    "n, k = map(int, input().split())\n",
    "a = list(map(int, input().split()))\n",
    "b = list(map(int, input().split()))\n",
    "\n",
    "a.sort()\n",
    "b.sort(reverse=True)\n",
    "\n",
    "for i in range(k):\n",
    "    if a[i]<b[i]:\n",
    "        a[i],b[i] = b[i], a[i]\n",
    "    else:\n",
    "        greak\n",
    "print(sum(a))"
   ]
  },
  {
   "cell_type": "code",
   "execution_count": 12,
   "metadata": {},
   "outputs": [
    {
     "name": "stdout",
     "output_type": "stream",
     "text": [
      "생성할 원소 개수를 입력한 다음 한 칸 띄고 찾을 문자열을 입력하세요.\n",
      "5 Dongbin\n",
      "앞서 적은 원소 개수만큼 문자열을 입력하세요. 구분은 띄어쓰기 한 칸으로 합니다.\n",
      "Hanul Jonggu Dongbin Taeil Sangwook\n",
      "3\n"
     ]
    }
   ],
   "source": [
    "# 순차 탐색 p.187\n",
    "\n",
    "def sequential_search(n, target, array):\n",
    "    for i in range(n):\n",
    "        if array[i] == target:\n",
    "            return i+1\n",
    "        \n",
    "print(\"생성할 원소 개수를 입력한 다음 한 칸 띄고 찾을 문자열을 입력하세요.\")\n",
    "input_data = input().split()\n",
    "\n",
    "n= int(input_data[0])\n",
    "target= input_data[1]\n",
    "\n",
    "print(\"앞서 적은 원소 개수만큼 문자열을 입력하세요. 구분은 띄어쓰기 한 칸으로 합니다.\")\n",
    "array = input().split()\n",
    "\n",
    "print(sequential_search(n, target, array))"
   ]
  },
  {
   "cell_type": "code",
   "execution_count": 14,
   "metadata": {},
   "outputs": [
    {
     "name": "stdout",
     "output_type": "stream",
     "text": [
      "10 7\n",
      "1 3 5 7 9 11 13 15 17 19\n",
      "4\n"
     ]
    }
   ],
   "source": [
    "# 이진 탐색(재귀 함수로 구현) p.189\n",
    "\n",
    "def binary_search(array, target, start, end):\n",
    "    if start > end:\n",
    "        return None\n",
    "    mid = (start+end) // 2\n",
    "    \n",
    "    if array[mid] == target:\n",
    "        return mid\n",
    "    elif array[mid]>target:\n",
    "        return binary_search(array, target, start, mid-1)\n",
    "    \n",
    "    else:\n",
    "        return binary_search(array, target, mid+1, end)\n",
    "\n",
    "n, target = list(map(int, input().split()))\n",
    "\n",
    "array = list(map(int, input().split()))\n",
    "\n",
    "result = binary_search(array, target, 0, n-1)\n",
    "if result == None:\n",
    "    print(\"원소가 존재하지 않습니다.\")\n",
    "else:\n",
    "    print(result+1)\n",
    "    "
   ]
  },
  {
   "cell_type": "code",
   "execution_count": 15,
   "metadata": {},
   "outputs": [
    {
     "name": "stdout",
     "output_type": "stream",
     "text": [
      "10 7\n",
      "1 3 5 6 9 11 13 15 17 19\n",
      "원소가 존재하지 않습니다.\n"
     ]
    }
   ],
   "source": [
    "# 이진 탐색(반복문으로 구현) p.189\n",
    "\n",
    "def binary_search(array, target, start, end):\n",
    "    while start <=end:\n",
    "        mid = (start+end)//2\n",
    "        \n",
    "        if array[mid] == target:\n",
    "            return mid\n",
    "        elif array[mid]>target:\n",
    "            end = mid - 1\n",
    "        else:\n",
    "            start = mid +1\n",
    "    return None\n",
    "\n",
    "n, target = list(map(int, input().split()))\n",
    "\n",
    "array = list(map(int, input().split()))\n",
    "\n",
    "result = binary_search(array, target, 0, n-1)\n",
    "if result == None:\n",
    "    print(\"원소가 존재하지 않습니다.\")\n",
    "else:\n",
    "    print(result+1)\n",
    "    "
   ]
  },
  {
   "cell_type": "code",
   "execution_count": 18,
   "metadata": {
    "scrolled": true
   },
   "outputs": [
    {
     "name": "stdout",
     "output_type": "stream",
     "text": [
      "\n"
     ]
    }
   ],
   "source": [
    "# 한 줄 입력받아 출력하는 소스 p.196\n",
    "\n",
    "import sys\n",
    "\n",
    "input_data = sys.stdin.readline().rstrip()\n",
    "\n",
    "print(input_data)"
   ]
  },
  {
   "cell_type": "markdown",
   "metadata": {},
   "source": [
    "# <7-2> 부품 찾기 p.197"
   ]
  },
  {
   "cell_type": "markdown",
   "metadata": {},
   "source": [
    "## 내 풀이"
   ]
  },
  {
   "cell_type": "code",
   "execution_count": 23,
   "metadata": {
    "scrolled": true
   },
   "outputs": [
    {
     "name": "stdout",
     "output_type": "stream",
     "text": [
      "5\n",
      "8 3 7 9 2\n",
      "3\n",
      "5 7 9\n",
      "no yes yes "
     ]
    }
   ],
   "source": [
    "n = int(input())\n",
    "store = list(map(int, input().split()))\n",
    "\n",
    "m = int(input())\n",
    "customer = list(map(int, input().split()))\n",
    "\n",
    "store.sort()\n",
    "\n",
    "def binary_search(array, target, start, end):\n",
    "    if start > end:\n",
    "        return None\n",
    "    mid = (start+end) // 2\n",
    "    \n",
    "    if array[mid] == target:\n",
    "        return mid\n",
    "    elif array[mid]>target:\n",
    "        return binary_search(array, target, start, mid-1)\n",
    "    \n",
    "    else:\n",
    "        return binary_search(array, target, mid+1, end)\n",
    "\n",
    "for target in customer:\n",
    "    result = binary_search(store, target, 0, n-1)\n",
    "    if result == None:\n",
    "        print(\"no\", end=\" \")\n",
    "    else:\n",
    "        print(\"yes\", end=\" \")\n",
    "       \n",
    "    "
   ]
  },
  {
   "cell_type": "markdown",
   "metadata": {},
   "source": [
    "## 정답 풀이"
   ]
  },
  {
   "cell_type": "code",
   "execution_count": 24,
   "metadata": {},
   "outputs": [
    {
     "name": "stdout",
     "output_type": "stream",
     "text": [
      "5\n",
      "8 3 7 9 2\n",
      "3\n",
      "5 7 9\n",
      "no yes yes "
     ]
    }
   ],
   "source": [
    "#집합 자료형 이용. 나머지 풀이는 p.198 참조\n",
    "\n",
    "n = int(input())\n",
    "array = set(map(int, input().split()))\n",
    "\n",
    "m = int(input())\n",
    "x=list(map(int, input().split()))\n",
    "\n",
    "for i in x:\n",
    "    \n",
    "    if i in array:\n",
    "        print('yes', end=' ')\n",
    "    else:\n",
    "        print('no', end=' ')"
   ]
  },
  {
   "cell_type": "markdown",
   "metadata": {},
   "source": [
    "## 오늘 내용 정리\n",
    "\n",
    "1. 배열 안에서 특정 값을 갖는 인덱스 값 찾는 법  \n",
    "array.index(value)  \n",
    "ex) array.index(3) // 만족하는 값 없으면 에러 발생  \n",
    "\n",
    "2. 탐색  \n",
    "> 순차 탐색: 리스트 안에 있는 특정한 데이터를 찾기 위해 앞에서부터 데이터를 하나씩 차례대로 확인하는 방법  \n",
    ">> 시간복잡도: 최악 - O(N)    \n",
    ">  \n",
    "> 이진 탐색: __찾으려는 데이터와 중간점 위치에 있는 데이터를 반복적으로 비교해서__ 원하는 데이터를 찾는 방법  \n",
    ">> __배열 내부의 데이터가 정렬되어 있어야만 사용할 수 있음__  \n",
    ">> 시작점, 끝점 중간점이라는 3개의 변수를 사용  \n",
    ">> 시간복잡도: O(logN)\n",
    ">> 외우는 것 추천  \n",
    ">  \n",
    "> 트리 자료구조(주요 특징)\n",
    ">> 트리는 부모 노드와 자식 노드의 관계료 표현됨  \n",
    ">> 트리의 최상단 노드를 __루트 노드__ 라고 함\n",
    ">> 트리의 최하단 노드를 __단말 노드__ 라고 함  \n",
    ">> 트리에서 일부를 떼어내도 트리 구조이며 이를 __서브 트리__ 라고 함  \n",
    ">> 트리는 파일 시스템과 같이 계층적이고 정렬된 데이터를 다루기에 적합함  \n",
    ">  \n",
    "> 이진 탐색 트리(특징)  \n",
    ">> 부모 노드보다 왼쪽 자식 노드가 작음  \n",
    ">> 부모 노드보다 오른쪽 자식 노드가 큼  \n",
    ">> __왼쪽 자식 노드 < 부모 노드 < 오른쪽 자식 노드__  \n",
    "  \n",
    "3. 빠르게 입력 받기  \n",
    "입력 데이터가 많은 문제는 sys 라이브러리의 readline() 함수를 이용하면 됨  \n",
    "한 줄 입력 받고 나서 __rstrip()__ 함수를 꼭 호출해야 함  \n",
    "enter가 줄바꿈 기호로 입력되는데, 이를 제거하기 위해 사용함  \n",
    "  \n",
    "4. 집합 자료형  \n",
    "ex) array = set(map(int, input().split()))"
   ]
  },
  {
   "cell_type": "code",
   "execution_count": null,
   "metadata": {},
   "outputs": [],
   "source": []
  }
 ],
 "metadata": {
  "kernelspec": {
   "display_name": "Python 3",
   "language": "python",
   "name": "python3"
  },
  "language_info": {
   "codemirror_mode": {
    "name": "ipython",
    "version": 3
   },
   "file_extension": ".py",
   "mimetype": "text/x-python",
   "name": "python",
   "nbconvert_exporter": "python",
   "pygments_lexer": "ipython3",
   "version": "3.8.3"
  }
 },
 "nbformat": 4,
 "nbformat_minor": 4
}
