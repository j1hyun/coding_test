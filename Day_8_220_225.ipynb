{
 "cells": [
  {
   "cell_type": "markdown",
   "metadata": {},
   "source": [
    "# <8-3> 개미 전사 p.220"
   ]
  },
  {
   "cell_type": "markdown",
   "metadata": {},
   "source": [
    "## 내 풀이"
   ]
  },
  {
   "cell_type": "code",
   "execution_count": 5,
   "metadata": {
    "scrolled": true
   },
   "outputs": [
    {
     "name": "stdout",
     "output_type": "stream",
     "text": [
      "4\n",
      "1 3 1 5\n",
      "8\n"
     ]
    }
   ],
   "source": [
    "n = int(input())\n",
    "store_list=list(map(int, input().split()))\n",
    "\n",
    "d=[0]*101\n",
    "\n",
    "d[0]=store_list[0]\n",
    "d[1]=max(store_list[0], store_list[1])\n",
    "for i in range(2, n):\n",
    "    if d[i-2]+store_list[i]>d[i-1]:\n",
    "        d[i]=d[i-2]+store_list[i]\n",
    "    else: d[i]=d[i-1]\n",
    "print(d[n-1])    #배열 인덱스는 0부터 시작하므로"
   ]
  },
  {
   "cell_type": "markdown",
   "metadata": {},
   "source": [
    "## 정답 풀이"
   ]
  },
  {
   "cell_type": "code",
   "execution_count": 6,
   "metadata": {},
   "outputs": [
    {
     "name": "stdout",
     "output_type": "stream",
     "text": [
      "4\n",
      "1 3 1 5\n",
      "8\n"
     ]
    }
   ],
   "source": [
    "n = int(input())\n",
    "store_list=list(map(int, input().split()))\n",
    "\n",
    "d=[0]*101\n",
    "\n",
    "d[0]=store_list[0]\n",
    "d[1]=max(store_list[0], store_list[1])\n",
    "for i in range(2, n):\n",
    "    d[i]=max(d[i-1], d[i-2] + store_list[i])\n",
    "print(d[n-1])"
   ]
  },
  {
   "cell_type": "markdown",
   "metadata": {},
   "source": [
    "# <8-4> 바닥 공사 p.223"
   ]
  },
  {
   "cell_type": "markdown",
   "metadata": {},
   "source": [
    "## 내 풀이"
   ]
  },
  {
   "cell_type": "code",
   "execution_count": 14,
   "metadata": {
    "scrolled": true
   },
   "outputs": [
    {
     "name": "stdout",
     "output_type": "stream",
     "text": [
      "10\n",
      "971.0\n"
     ]
    }
   ],
   "source": [
    "n = int(input())\n",
    "\n",
    "d=[0]*1001\n",
    "\n",
    "d[1]=1\n",
    "d[2]=3\n",
    "\n",
    "re=0 # 몫에 대한 값 저장\n",
    "for i in range(3, n+1):\n",
    "    if n%2==0:\n",
    "        re=n/2\n",
    "        d[i]=3**re+d[i-2]-1\n",
    "    else:\n",
    "        d[i]=d[i-1]+i//2+1\n",
    "\n",
    "d[i]%=796796\n",
    "print(d[n])"
   ]
  },
  {
   "cell_type": "markdown",
   "metadata": {},
   "source": [
    "## 정답 풀이"
   ]
  },
  {
   "cell_type": "code",
   "execution_count": 15,
   "metadata": {},
   "outputs": [
    {
     "name": "stdout",
     "output_type": "stream",
     "text": [
      "10\n",
      "683\n"
     ]
    }
   ],
   "source": [
    "n = int(input())\n",
    "\n",
    "d=[0]*1001\n",
    "\n",
    "d[1]=1\n",
    "d[2]=3\n",
    "for i in range(3, n+1):\n",
    "    d[i]=(d[i-1]+2*d[i-2]) % 796796\n",
    "\n",
    "print(d[n])"
   ]
  },
  {
   "cell_type": "markdown",
   "metadata": {},
   "source": [
    "공식 수립에 오류가 있었음 ai=ai-1+ai-2*2 꼴임"
   ]
  },
  {
   "cell_type": "code",
   "execution_count": null,
   "metadata": {},
   "outputs": [],
   "source": []
  }
 ],
 "metadata": {
  "kernelspec": {
   "display_name": "Python 3",
   "language": "python",
   "name": "python3"
  },
  "language_info": {
   "codemirror_mode": {
    "name": "ipython",
    "version": 3
   },
   "file_extension": ".py",
   "mimetype": "text/x-python",
   "name": "python",
   "nbconvert_exporter": "python",
   "pygments_lexer": "ipython3",
   "version": "3.8.3"
  }
 },
 "nbformat": 4,
 "nbformat_minor": 4
}
