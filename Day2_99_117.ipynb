{
 "cells": [
  {
   "cell_type": "markdown",
   "metadata": {},
   "source": [
    "# <3-3> 숫자 카드 게임 p.96"
   ]
  },
  {
   "cell_type": "markdown",
   "metadata": {},
   "source": [
    "## 내 풀이"
   ]
  },
  {
   "cell_type": "code",
   "execution_count": 1,
   "metadata": {},
   "outputs": [
    {
     "name": "stdout",
     "output_type": "stream",
     "text": [
      "3 3\n",
      "1 3 2\n",
      "4 2 4\n",
      "3 3 8\n",
      "3\n"
     ]
    }
   ],
   "source": [
    "n,m = map(int, input().split())\n",
    "\n",
    "card_min_data=[]\n",
    "\n",
    "for i in range(n):\n",
    "    data = list(map(int, input().split()))\n",
    "    card_min_data.append(min(data))\n",
    "\n",
    "print(max(card_min_data))"
   ]
  },
  {
   "cell_type": "markdown",
   "metadata": {},
   "source": [
    "## 정답 풀이"
   ]
  },
  {
   "cell_type": "code",
   "execution_count": 2,
   "metadata": {},
   "outputs": [
    {
     "name": "stdout",
     "output_type": "stream",
     "text": [
      "3 3 \n",
      "1 3 2\n",
      "4 2 4\n",
      "3 3 8\n",
      "3\n"
     ]
    }
   ],
   "source": [
    "n,m = map(int, input().split())\n",
    "\n",
    "result = 0\n",
    "\n",
    "for i in range(n):\n",
    "    data = list(map(int, input().split()))\n",
    "    min_value = min(data)\n",
    "    result = max(result, min_value)\n",
    "    \n",
    "print(result)"
   ]
  },
  {
   "cell_type": "code",
   "execution_count": 3,
   "metadata": {},
   "outputs": [
    {
     "name": "stdout",
     "output_type": "stream",
     "text": [
      "3 3\n",
      "1 3 2\n",
      "4 2 4\n",
      "3 3 8\n",
      "3\n"
     ]
    }
   ],
   "source": [
    "# 2중 반복문\n",
    "n,m = map(int, input().split())\n",
    "\n",
    "result = 0\n",
    "\n",
    "for i in range(n):\n",
    "    data = list(map(int, input().split()))\n",
    "    min_value = 1001\n",
    "    for a in data:\n",
    "        min_value = min(min_value, a)\n",
    "    \n",
    "    result = max(result, min_value)\n",
    "    \n",
    "print(result)"
   ]
  },
  {
   "cell_type": "markdown",
   "metadata": {},
   "source": [
    "내 풀이는 각 행의 min 값을 모두 list로 만들어 그 중에서의 최소값을 찾는 방법이고  \n",
    "책의 풀이는 각행의 min값을 0(1보다 작은 값) 또는 1001(100보다 큰 값)을 이용해 값을 비교하는 방법임"
   ]
  },
  {
   "cell_type": "markdown",
   "metadata": {},
   "source": [
    "# <3-4> 1이 될 때까지 p.99"
   ]
  },
  {
   "cell_type": "markdown",
   "metadata": {},
   "source": [
    "## 내 풀이"
   ]
  },
  {
   "cell_type": "code",
   "execution_count": 12,
   "metadata": {},
   "outputs": [
    {
     "name": "stdout",
     "output_type": "stream",
     "text": [
      "99879 95124\n",
      "4756\n",
      "시간:  0.004987001419067383\n"
     ]
    }
   ],
   "source": [
    "import time\n",
    "\n",
    "n, k = map(int, input().split())\n",
    "start = time.time()\n",
    "\n",
    "count =0\n",
    "\n",
    "while True:\n",
    "    if(n%k==0):\n",
    "        n/=k\n",
    "    else:\n",
    "        n-=1\n",
    "    count+=1\n",
    "\n",
    "    if(n==1):\n",
    "        break\n",
    "print(count)\n",
    "print(\"시간: \", time.time()-start)"
   ]
  },
  {
   "cell_type": "markdown",
   "metadata": {},
   "source": [
    "## 정답 풀이"
   ]
  },
  {
   "cell_type": "code",
   "execution_count": 5,
   "metadata": {},
   "outputs": [
    {
     "name": "stdout",
     "output_type": "stream",
     "text": [
      "25 3\n",
      "6\n",
      "시간:  0.0009968280792236328\n"
     ]
    }
   ],
   "source": [
    "import time\n",
    "n, k = map(int, input().split())\n",
    "start = time.time()\n",
    "\n",
    "result =0\n",
    "\n",
    "while n>=k:\n",
    "    while n % k !=0:\n",
    "        n-=1\n",
    "        result += 1\n",
    "    n //=k\n",
    "    result += 1\n",
    "    \n",
    "while n>1 :\n",
    "    n-=1\n",
    "    result += 1\n",
    "\n",
    "print(result)\n",
    "print(\"시간: \", time.time()-start)"
   ]
  },
  {
   "cell_type": "code",
   "execution_count": 8,
   "metadata": {},
   "outputs": [
    {
     "name": "stdout",
     "output_type": "stream",
     "text": [
      "984651321684651651981655 12\n",
      "154\n",
      "시간:  0.0009963512420654297\n"
     ]
    }
   ],
   "source": [
    "# n이 k의 배수가 될 때까지 뺀 후 나눗셈만 반복하는 코드\n",
    "import time\n",
    "n, k = map(int, input().split())\n",
    "start = time.time()\n",
    "\n",
    "result =0\n",
    "\n",
    "while True:\n",
    "    target = (n // k) * k\n",
    "    result +=(n-target)\n",
    "    \n",
    "    n=target\n",
    "    \n",
    "    if n<k:\n",
    "        break\n",
    "    result += 1\n",
    "    n //= k\n",
    "    \n",
    "result += (n-1)\n",
    "print(result)\n",
    "print(\"시간: \", time.time()-start)"
   ]
  },
  {
   "cell_type": "markdown",
   "metadata": {},
   "source": [
    "짧은 시간에서는 내 코드가 빠른 시간 안에 처리되었지만 큰 숫자(입력 조건보다 훨씬 큰 숫자)를 넣었을 때는 책의 코드가 월등하게 빨랐다.\n",
    "코드를 좀 더 효율적으로 짤 필요 있을 것 같다."
   ]
  },
  {
   "cell_type": "markdown",
   "metadata": {},
   "source": [
    "# <4-1> 상하좌우 p.110"
   ]
  },
  {
   "cell_type": "markdown",
   "metadata": {},
   "source": [
    "## 내 풀이"
   ]
  },
  {
   "cell_type": "code",
   "execution_count": 16,
   "metadata": {},
   "outputs": [
    {
     "name": "stdout",
     "output_type": "stream",
     "text": [
      "5\n",
      "R R U D D R\n",
      "3 4\n"
     ]
    }
   ],
   "source": [
    "n = int(input())\n",
    "move_list = list(map(str, input().split()))\n",
    "\n",
    "x=y=1\n",
    "for i in move_list:\n",
    "    if (not((x==1 and i=='L') or (x==5 and i=='R') or (y==1 and i=='U') or (y==5 and i=='D'))):\n",
    "        if(i=='L'): x-=1\n",
    "        elif(i=='R'): x+=1\n",
    "        elif(i=='U'): y-=1\n",
    "        elif(i=='D'): y+=1\n",
    "\n",
    "print(y, x)"
   ]
  },
  {
   "cell_type": "markdown",
   "metadata": {},
   "source": [
    "## 정답 풀이"
   ]
  },
  {
   "cell_type": "code",
   "execution_count": 17,
   "metadata": {},
   "outputs": [
    {
     "name": "stdout",
     "output_type": "stream",
     "text": [
      "5\n",
      "R R U D D R\n",
      "3 4\n"
     ]
    }
   ],
   "source": [
    "n = int(input())\n",
    "x, y = 1, 1\n",
    "plans = input().split()\n",
    "\n",
    "dx = [0, 0, -1, 1]\n",
    "dy = [-1, 1, 0, 0]\n",
    "move_types = ['L', 'R', 'U', 'D']\n",
    "\n",
    "for plan in plans:\n",
    "    for i in range(len(move_types)):\n",
    "        if plan==move_types[i]:\n",
    "            nx = x + dx[i]\n",
    "            ny = y + dy[i]\n",
    "            \n",
    "    if nx<1 or ny<1 or nx>n or ny>n:\n",
    "        continue\n",
    "    x, y = nx, ny\n",
    "\n",
    "print(x, y)\n"
   ]
  },
  {
   "cell_type": "markdown",
   "metadata": {},
   "source": [
    "내 코드는 제약 조건을 미리 설정하고 각각 입력 받은 값에 따른 x, y 좌표를 바로 처리한 것이고  \n",
    "책의 코드는 모든 경우의 수를 둔 뒤 마지막에 제약 조건을 설정한 것이다."
   ]
  },
  {
   "cell_type": "markdown",
   "metadata": {},
   "source": [
    "# <4-2> 시각 p.113"
   ]
  },
  {
   "cell_type": "markdown",
   "metadata": {},
   "source": [
    "## 내 풀이"
   ]
  },
  {
   "cell_type": "code",
   "execution_count": 18,
   "metadata": {},
   "outputs": [
    {
     "name": "stdout",
     "output_type": "stream",
     "text": [
      "22\n",
      "40275\n",
      "시간:  0.0009968280792236328\n"
     ]
    }
   ],
   "source": [
    "import time\n",
    "\n",
    "n = int(input())\n",
    "start=time.time()\n",
    "\n",
    "count=0\n",
    "for i in range(n+1):\n",
    "    if(i ==3 or i==13 or i==23):\n",
    "        count+=60*60\n",
    "    else:\n",
    "        count+=(60*60-45*45)\n",
    "\n",
    "print(count)\n",
    "print(\"시간: \", time.time()-start)"
   ]
  },
  {
   "cell_type": "markdown",
   "metadata": {},
   "source": [
    "## 정답 풀이"
   ]
  },
  {
   "cell_type": "code",
   "execution_count": 20,
   "metadata": {},
   "outputs": [
    {
     "name": "stdout",
     "output_type": "stream",
     "text": [
      "22\n",
      "40275\n",
      "시간:  0.08975791931152344\n"
     ]
    }
   ],
   "source": [
    "import time\n",
    "\n",
    "h = int(input())\n",
    "start=time.time()\n",
    "\n",
    "count=0\n",
    "\n",
    "for i in range(h+1):\n",
    "    for j in range(60):\n",
    "        for k in range(60):\n",
    "            if '3' in str(i) + str(j) + str(k):\n",
    "                count+=1\n",
    "\n",
    "print(count)\n",
    "print(\"시간: \", time.time()-start)"
   ]
  },
  {
   "cell_type": "markdown",
   "metadata": {},
   "source": [
    "책의 코드는 말 그대로 3이 입력 되었을 때 count 수가 올라 가도록 코드를 짰고 내 코드는 미리 3이 나오는 것을 배제하고 검색만 할 수 있게 한 코드이다.  "
   ]
  },
  {
   "cell_type": "markdown",
   "metadata": {},
   "source": [
    "# <4-3> 왕실의 나이트 p.115"
   ]
  },
  {
   "cell_type": "markdown",
   "metadata": {},
   "source": [
    "## 정답 풀이"
   ]
  },
  {
   "cell_type": "code",
   "execution_count": 21,
   "metadata": {},
   "outputs": [
    {
     "name": "stdout",
     "output_type": "stream",
     "text": [
      "a1\n",
      "2\n"
     ]
    }
   ],
   "source": [
    "data_list=list(input().strip())\n",
    "row = int(data_list[1])\n",
    "column = int(ord(data_list[0])) - int(ord('a')) + 1\n",
    "steps = [(-2, -1), (-1, -2), (1,-2), (2, -1), (2, 1), (1, 2), (-1, 2), (-2, 1)]\n",
    "\n",
    "result=0\n",
    "\n",
    "for step in steps:\n",
    "    next_row = row + step[0]\n",
    "    next_column = column + step[1]\n",
    "\n",
    "    if next_row>=1 and next_row<=8 and next_column>=1 and next_column<=8:\n",
    "        result+=1\n",
    "print(result)"
   ]
  },
  {
   "cell_type": "markdown",
   "metadata": {},
   "source": [
    "못 풀어서 책 답으로 대체. 미리 갈 수 있는 좌표를 적어 리스트형으로 만든 후 조건 만족할 시 result 값을 올리는 방식으로 문제 풀이 가능"
   ]
  },
  {
   "cell_type": "markdown",
   "metadata": {},
   "source": [
    "## 오늘 내용 정리\n",
    "1. 완전 탐색  \n",
    "모든 경우의 수를 주저 없이 다 계산하는 해결 방법  \n",
    "  \n",
    "2. 시뮬레이션  \n",
    "문제에서 제시한 알고리즘을 한 단계씩 차례대로 직접 수행하는 방법   \n",
    "  \n",
    "3. 알고리즘 문제 중 메모리 제한 염두해 두고 코딩 해야 함  \n",
    "ex)1,000 > 약 4KB  \n",
    "   1,000,000 > 약 4MB  \n",
    "   1,000,000,000 > 약 40MB  3w\n",
    "4. 문자에서 특정 값 찾기  \n",
    "ex) if 'e' in 'example'  \n",
    "'example'이라는 문자열 내에 문자 'e'가 있는지 검색할 수 있다. (문자 위치가 어디 있든 그 문자를 포함하는지 알려 줌)  \n",
    "5. 문자 > 아스키 기호(숫자) 변환  \n",
    "ex) ord('a')"
   ]
  },
  {
   "cell_type": "code",
   "execution_count": null,
   "metadata": {},
   "outputs": [],
   "source": []
  }
 ],
 "metadata": {
  "kernelspec": {
   "display_name": "Python 3",
   "language": "python",
   "name": "python3"
  },
  "language_info": {
   "codemirror_mode": {
    "name": "ipython",
    "version": 3
   },
   "file_extension": ".py",
   "mimetype": "text/x-python",
   "name": "python",
   "nbconvert_exporter": "python",
   "pygments_lexer": "ipython3",
   "version": "3.8.3"
  }
 },
 "nbformat": 4,
 "nbformat_minor": 4
}
