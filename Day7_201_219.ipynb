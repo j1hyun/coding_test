{
 "cells": [
  {
   "cell_type": "markdown",
   "metadata": {},
   "source": [
    "# <7-3> 떡볶이 떡 만들기 p.201"
   ]
  },
  {
   "cell_type": "markdown",
   "metadata": {},
   "source": [
    "## 내 풀이"
   ]
  },
  {
   "cell_type": "code",
   "execution_count": 14,
   "metadata": {
    "scrolled": true
   },
   "outputs": [
    {
     "name": "stdout",
     "output_type": "stream",
     "text": [
      "4 6\n",
      "19 15 10 17\n",
      "15\n"
     ]
    }
   ],
   "source": [
    "n, m = map(int, input().split())\n",
    "h_list = list(map(int, input().split()))\n",
    "\n",
    "h_max = max(h_list)\n",
    "\n",
    "while True:\n",
    "    sum=0\n",
    "    for i in h_list:\n",
    "        if i<=h_max:\n",
    "            sum+=0\n",
    "        else:\n",
    "            sum+=(i-h_max)\n",
    "    \n",
    "    if sum==m:\n",
    "        break\n",
    "    h_max-=1\n",
    "    \n",
    "print(h_max)"
   ]
  },
  {
   "cell_type": "markdown",
   "metadata": {},
   "source": [
    "## 정답 풀이"
   ]
  },
  {
   "cell_type": "code",
   "execution_count": 19,
   "metadata": {},
   "outputs": [
    {
     "name": "stdout",
     "output_type": "stream",
     "text": [
      "4 6\n",
      "19 15 10 17\n",
      "15\n"
     ]
    }
   ],
   "source": [
    "n, m = map(int, input().split(' '))\n",
    "h_list = list(map(int, input().split()))\n",
    "\n",
    "start=0\n",
    "end = max(h_list)\n",
    "\n",
    "result = 0\n",
    "while(start <= end):\n",
    "    total=0\n",
    "    mid = (start + end)//2\n",
    "    for x in h_list:\n",
    "        if x > mid:\n",
    "            total+=x - mid\n",
    "    if total < m:\n",
    "        end = mid -1\n",
    "    else:\n",
    "        result = mid\n",
    "        start = mid +1\n",
    "\n",
    "print(result)"
   ]
  },
  {
   "cell_type": "markdown",
   "metadata": {},
   "source": [
    "이진 탐색을 통해 탐색 횟수를 줄일 수 있음"
   ]
  },
  {
   "cell_type": "code",
   "execution_count": 20,
   "metadata": {},
   "outputs": [
    {
     "name": "stdout",
     "output_type": "stream",
     "text": [
      "3\n"
     ]
    }
   ],
   "source": [
    "# 피보나치 함수 p.210\n",
    "\n",
    "def fibo(x):\n",
    "    if x == 1 or x == 2:\n",
    "        return 1\n",
    "    return fibo(x - 1) + fibo(x - 2)\n",
    "\n",
    "print(fibo(4))"
   ]
  },
  {
   "cell_type": "code",
   "execution_count": 23,
   "metadata": {},
   "outputs": [
    {
     "name": "stdout",
     "output_type": "stream",
     "text": [
      "218922995834555169026\n"
     ]
    }
   ],
   "source": [
    "# 피보나치수열 코드(재귀적) p.212\n",
    "\n",
    "d = [0]*100 # 한번 계산된 결과를 메모제이션 하기 위한 리스트 초기화\n",
    "\n",
    "def fibo(x):\n",
    "    if x==1 or x == 2:\n",
    "        return 1\n",
    "    if d[x] !=0: # 이미 계산한 적 있는 문제라면\n",
    "        return d[x] # 결과를 그대로 반환\n",
    "    d[x] = fibo(x-1)+fibo(x-2)\n",
    "    return d[x]\n",
    "\n",
    "print(fibo(99))"
   ]
  },
  {
   "cell_type": "code",
   "execution_count": 24,
   "metadata": {},
   "outputs": [
    {
     "name": "stdout",
     "output_type": "stream",
     "text": [
      "218922995834555169026\n"
     ]
    }
   ],
   "source": [
    "# 피보나치수열 코드(반복적) p.215\n",
    "\n",
    "d = [0]*100 \n",
    "d[1] = 1\n",
    "d[2] = 1\n",
    "n=99\n",
    "\n",
    "for i in range(3, n+1):\n",
    "    d[i] = d[i-1] + d[i-2]\n",
    "    \n",
    "print(d[n])"
   ]
  },
  {
   "cell_type": "markdown",
   "metadata": {},
   "source": [
    "# <8-2> 1로 만들기 p.217"
   ]
  },
  {
   "cell_type": "markdown",
   "metadata": {},
   "source": [
    "## 정답 풀이(풀지 못해서 내 풀이는 생략)"
   ]
  },
  {
   "cell_type": "code",
   "execution_count": 28,
   "metadata": {},
   "outputs": [
    {
     "name": "stdout",
     "output_type": "stream",
     "text": [
      "26\n",
      "3\n"
     ]
    }
   ],
   "source": [
    "x = int(input())\n",
    "\n",
    "d=[0]*3001\n",
    "\n",
    "for i in range(2, x+1):   #2부터 현재 수까지 반복해서 리스트에 채워넣음\n",
    "    d[i] = d[i-1] + 1 #현재 수에서 1을 빼는 경우\n",
    "    if i%2 == 0:\n",
    "        d[i] = min(d[i], d[i//2]+1)\n",
    "    if i%3 == 0:\n",
    "        d[i] = min(d[i], d[i//3]+1)\n",
    "    if i%5 == 0:\n",
    "        d[i] = min(d[i], d[i//5]+1)\n",
    "print(d[x])"
   ]
  },
  {
   "cell_type": "markdown",
   "metadata": {},
   "source": [
    "## 오늘 내용 정리\n",
    "\n",
    "1. for문 역순으로 출력하기  \n",
    "ex) for i in range(n, 0, -1):  \n",
    "\n",
    "2. 다이나믹 프로그래밍(p.208)  \n",
    "> 다이나믹 프로그래밍: 메모리 공간을 약간 더 사용하여 연산 속도를 비약적으로 증가시킬 수 있는 방법 중 하나. __동적 계획법__ 이라고도 함  \n",
    "> 다음과 같은 조건을 만족할 때 사용할 수 있음  \n",
    ">> 큰 문제를 작은 문제로 나눌 수 있다.  \n",
    ">> 작은 문제에서 구한 정답은 그것을 포함하는 큰 문제에서도 동일하다.\n",
    ">> ex) 피보나치 수열  \n",
    ">    \n",
    "> 메모제이션(Memoization)기법\n",
    ">> 다이나믹 프로그래밍을 구현하는 방법 중 한 종류  \n",
    ">> 한 번 구한 결과를 __메모리 공간에 메모해두고__ 같은 식을 다시 호출하면 메모한 결과를 그대로 가져오는 기법.  \n",
    ">> 한 번 구한 정보를 __리스트__ 에 저장하여 구현\n",
    ">>  \n",
    ">> 시간복잡도: O(N)  \n",
    ">> 호출할 때 재귀 함수를 사용하면 오버헤드가 발생할 수 있음. 따라서 반복문을 사용하여 오버헤드를 줄일 수 있음  \n",
    ">> __탑다운 방식__: 큰 문제를 해결하기 위해 작은 문제를 호출- __재귀함수__ 이용  \n",
    ">> __보텀업 방식__: __반복문__ 을 이용하여 작은 문제부터 답을 도출\n",
    "\n",
    "\n",
    "3. 질문 p.214에서 f(2) f(3) f(4)가 왜 호출이 다시 되는지 모르겠음"
   ]
  },
  {
   "cell_type": "code",
   "execution_count": null,
   "metadata": {},
   "outputs": [],
   "source": []
  }
 ],
 "metadata": {
  "kernelspec": {
   "display_name": "Python 3",
   "language": "python",
   "name": "python3"
  },
  "language_info": {
   "codemirror_mode": {
    "name": "ipython",
    "version": 3
   },
   "file_extension": ".py",
   "mimetype": "text/x-python",
   "name": "python",
   "nbconvert_exporter": "python",
   "pygments_lexer": "ipython3",
   "version": "3.8.3"
  }
 },
 "nbformat": 4,
 "nbformat_minor": 4
}
