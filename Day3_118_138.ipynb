{
 "cells": [
  {
   "cell_type": "markdown",
   "metadata": {},
   "source": [
    "# <4-4> 게임 개발 p.118"
   ]
  },
  {
   "cell_type": "markdown",
   "metadata": {},
   "source": [
    "## 내 풀이"
   ]
  },
  {
   "cell_type": "code",
   "execution_count": 35,
   "metadata": {},
   "outputs": [
    {
     "name": "stdout",
     "output_type": "stream",
     "text": [
      "4 4\n",
      "1 1 0\n",
      "1 1 1 1\n",
      "1 0 0 1\n",
      "1 1 0 1\n",
      "1 1 1 1\n",
      "3\n"
     ]
    }
   ],
   "source": [
    "n, m = map(int, input().split())\n",
    "a,b,d = map(int, input().split())\n",
    "\n",
    "dx = [0, 1, 0, -1]\n",
    "dy = [-1, 0, 1, 0]\n",
    "data_list=[]\n",
    "\n",
    "location = []\n",
    "current=[]\n",
    "current.append(a)\n",
    "current.append(b)\n",
    "\n",
    "location.append(current)\n",
    "count=1\n",
    "\n",
    "for i in range(m):\n",
    "    data= list(map(int, input().split()))\n",
    "    data_list.append(data)\n",
    "def turn_left():\n",
    "    global d\n",
    "    if (d > 0):\n",
    "        d -= 1\n",
    "    else:\n",
    "        d = 3\n",
    "\n",
    "c=d\n",
    "while True:\n",
    "    if ((current[0]+dx[d], current[1]+dy[d]) in location):\n",
    "        turn_left()\n",
    "    else:\n",
    "        if(data_list[current[0]+dx[d]][current[1]+dy[d]]==0):\n",
    "            current[0]+=dx[d]\n",
    "            current[1]+=dy[d]\n",
    "            location.append(current)\n",
    "            count+=1\n",
    "        else:\n",
    "            turn_left()\n",
    "\n",
    "    if c==d:\n",
    "        if (data_list[current[0]+dx[d]][current[1]+dy[d]]==1):\n",
    "            break\n",
    "        else:\n",
    "            current[0]-=dx[d]\n",
    "            current[1]-=dy[d]\n",
    "            location.append(current)\n",
    "\n",
    "\n",
    "print(count)\n"
   ]
  },
  {
   "cell_type": "markdown",
   "metadata": {},
   "source": [
    "## 정답 풀이"
   ]
  },
  {
   "cell_type": "code",
   "execution_count": 39,
   "metadata": {},
   "outputs": [
    {
     "name": "stdout",
     "output_type": "stream",
     "text": [
      "4 4\n",
      "1 1 0\n",
      "1 1 1 1\n",
      "1 0 0 1\n",
      "1 1 0 1\n",
      "1 1 1 1\n",
      "3\n"
     ]
    }
   ],
   "source": [
    "n, m = map(int, input().split())\n",
    "d=[[0]* m for _ in range(n)]\n",
    "\n",
    "x, y, direction = map(int, input().split())\n",
    "d[x][y]=1\n",
    "\n",
    "dy = [0, 1, 0, -1]\n",
    "dx = [-1, 0, 1, 0]\n",
    "\n",
    "array=[]\n",
    "for i in range(n):\n",
    "    array.append(list(map(int, input().split())))\n",
    "    \n",
    "dx=[-1, 0, 1, 0]\n",
    "dy=[0, 1, 0, -1]\n",
    "\n",
    "def turn_left():\n",
    "    global direction\n",
    "    direction-=1\n",
    "    if direction==-1:\n",
    "        direction=3\n",
    "    \n",
    "count=1\n",
    "turn_time=0\n",
    "\n",
    "while True:\n",
    "    turn_left()\n",
    "    nx=x+dx[direction]\n",
    "    ny=y+dy[direction]\n",
    "    \n",
    "    if d[nx][ny]==0 and array[nx][ny] ==0:\n",
    "        d[nx][ny] = 1\n",
    "        x = nx\n",
    "        y = ny\n",
    "        count+=1\n",
    "        turn_time = 0\n",
    "        continue\n",
    "    else:\n",
    "        turn_time+=1\n",
    "    if turn_time==4:\n",
    "        nx=x-dx[direction]\n",
    "        ny=y-dx[direction]\n",
    "        if array[nx][ny]==0:\n",
    "            x=nx\n",
    "            y=ny\n",
    "        else:\n",
    "            break\n",
    "        turn_time = 0\n",
    "print(count)"
   ]
  },
  {
   "cell_type": "code",
   "execution_count": 2,
   "metadata": {
    "scrolled": true
   },
   "outputs": [
    {
     "name": "stdout",
     "output_type": "stream",
     "text": [
      "[5, 2, 3, 1]\n",
      "[1, 3, 2, 5]\n"
     ]
    }
   ],
   "source": [
    "#스택 예제\n",
    "\n",
    "stack=[]\n",
    "stack.append(5)\n",
    "stack.append(2)\n",
    "stack.append(3)\n",
    "stack.append(7)\n",
    "stack.pop()\n",
    "stack.append(1)\n",
    "stack.append(4)\n",
    "stack.pop()\n",
    "\n",
    "print(stack)\n",
    "print(stack[::-1])"
   ]
  },
  {
   "cell_type": "code",
   "execution_count": 4,
   "metadata": {},
   "outputs": [
    {
     "name": "stdout",
     "output_type": "stream",
     "text": [
      "deque([3, 7, 1, 4])\n",
      "deque([4, 1, 7, 3])\n"
     ]
    }
   ],
   "source": [
    "#큐 예제\n",
    "\n",
    "from collections import deque #큐를 사용하기 위한 라이브러리\n",
    "\n",
    "queue=deque()\n",
    "\n",
    "queue.append(5)\n",
    "queue.append(2)\n",
    "queue.append(3)\n",
    "queue.append(7)\n",
    "queue.popleft()\n",
    "queue.append(1)\n",
    "queue.append(4)\n",
    "queue.popleft() #popleft만 존재\n",
    "\n",
    "print(queue)\n",
    "queue.reverse()\n",
    "print(queue)"
   ]
  },
  {
   "cell_type": "code",
   "execution_count": 23,
   "metadata": {
    "scrolled": true
   },
   "outputs": [
    {
     "name": "stdout",
     "output_type": "stream",
     "text": [
      "반복적으로 구현:  306057512216440636035370461297268629388588804173576999416776741259476533176716867465515291422477573349939147888701726368864263907759003154226842927906974559841225476930271954604008012215776252176854255965356903506788725264321896264299365204576448830388909753943489625436053225980776521270822437639449120128678675368305712293681943649956460498166450227716500185176546469340112226034729724066333258583506870150169794168850353752137554910289126407157154830282284937952636580145235233156936482233436799254594095276820608062232812387383880817049600000000000000000000000000000000000000000000000000000000000000000000000000\n",
      "재귀적으로 구현:  306057512216440636035370461297268629388588804173576999416776741259476533176716867465515291422477573349939147888701726368864263907759003154226842927906974559841225476930271954604008012215776252176854255965356903506788725264321896264299365204576448830388909753943489625436053225980776521270822437639449120128678675368305712293681943649956460498166450227716500185176546469340112226034729724066333258583506870150169794168850353752137554910289126407157154830282284937952636580145235233156936482233436799254594095276820608062232812387383880817049600000000000000000000000000000000000000000000000000000000000000000000000000\n"
     ]
    }
   ],
   "source": [
    "#두 가지 방식으로 구현한 팩토리얼 예제\n",
    "\n",
    "# 반복적으로 구현한 n!\n",
    "import time\n",
    "\n",
    "def factorial_iterative(n):\n",
    "    result = 1\n",
    "    for i in range(1, n+1):\n",
    "        result*=i\n",
    "    return result\n",
    "\n",
    "def factorial_recursive(n):\n",
    "    if(n<=1):\n",
    "        return 1\n",
    "    return n*factorial_recursive(n-1)\n",
    "\n",
    "print('반복적으로 구현: ', factorial_iterative(300))\n",
    "print('재귀적으로 구현: ', factorial_recursive(300))"
   ]
  },
  {
   "cell_type": "code",
   "execution_count": 24,
   "metadata": {},
   "outputs": [
    {
     "name": "stdout",
     "output_type": "stream",
     "text": [
      "[[0, 7, 5], [7, 0, 99999999], [5, 99999999, 0]]\n"
     ]
    }
   ],
   "source": [
    "# 인접 행렬 예제, 데이터 초기화 방법\n",
    "\n",
    "INF=99999999\n",
    "\n",
    "graph = [\n",
    "    [0, 7, 5],\n",
    "    [7, 0, INF],\n",
    "    [5, INF, 0]\n",
    "]\n",
    "\n",
    "print(graph)"
   ]
  },
  {
   "cell_type": "code",
   "execution_count": 27,
   "metadata": {},
   "outputs": [
    {
     "name": "stdout",
     "output_type": "stream",
     "text": [
      "[[(1, 7), (2, 5)], [(0, 7)], [(0, 5)]]\n"
     ]
    }
   ],
   "source": [
    "# 인접 리스트 예제, 데이터 초기화 코드\n",
    "\n",
    "graph= [[] for _ in range(3)]\n",
    "\n",
    "graph[0].append((1,7))\n",
    "graph[0].append((2,5))\n",
    "\n",
    "graph[1].append((0,7))\n",
    "\n",
    "graph[2].append((0,5))\n",
    "\n",
    "print(graph)"
   ]
  },
  {
   "cell_type": "code",
   "execution_count": 30,
   "metadata": {},
   "outputs": [
    {
     "name": "stdout",
     "output_type": "stream",
     "text": [
      "1 2 7 6 8 3 4 5 "
     ]
    }
   ],
   "source": [
    "# DFS 예제\n",
    "\n",
    "def dfs(graph, v, visited):\n",
    "    visited[v] = True\n",
    "    print(v, end=' ')\n",
    "    for i in graph[v]:\n",
    "        if not visited[i]:\n",
    "            dfs(graph, i, visited)\n",
    "\n",
    "graph=[\n",
    "    [],\n",
    "    [2,3,8],\n",
    "    [1,7],\n",
    "    [1,4,5],\n",
    "    [3,5],\n",
    "    [3,4],\n",
    "    [7],\n",
    "    [2,6,8],\n",
    "    [1,7]\n",
    "]\n",
    "\n",
    "visited = [False] * 9\n",
    "\n",
    "dfs(graph, 1, visited)"
   ]
  },
  {
   "cell_type": "code",
   "execution_count": 34,
   "metadata": {},
   "outputs": [
    {
     "name": "stdout",
     "output_type": "stream",
     "text": [
      "1 2 3 8 7 4 5 6 "
     ]
    }
   ],
   "source": [
    "# BFS 예제\n",
    "from collections import deque\n",
    "\n",
    "def bfs(graph, start, visited):\n",
    "    \n",
    "    queue=deque([start])\n",
    "    \n",
    "    visited[start] = True\n",
    "    while queue:\n",
    "        v = queue.popleft()\n",
    "        print(v, end=' ')\n",
    "        \n",
    "        for i in graph[v]:\n",
    "            if not visited[i]:\n",
    "                queue.append(i)\n",
    "                visited[i]=True\n",
    "                \n",
    "graph=[\n",
    "    [],\n",
    "    [2,3,8],\n",
    "    [1,7],\n",
    "    [1,4,5],\n",
    "    [3,5],\n",
    "    [3,4],\n",
    "    [7],\n",
    "    [2,6,8],\n",
    "    [1,7]\n",
    "]\n",
    "\n",
    "visited = [False] * 9\n",
    "\n",
    "bfs(graph, 1, visited)               "
   ]
  },
  {
   "cell_type": "markdown",
   "metadata": {},
   "source": [
    "## 오늘 내용 정리\n",
    "1. def 내 글로벌 변수  \n",
    "함수 안에서 미리 선언한 어떤 변수를 계속 이용하고 싶다면 global을 앞에 붙여 주면 된다  \n",
    "ex) a=10  \n",
    "def num(): \n",
    "    gobal a  \n",
    "2. 자료구조 기초  \n",
    "  \n",
    "> 탐색: 많은 양의 데이터 중 원하는 데이터를 찾는 과정  \n",
    ">> 대표 알고리즘: DFS, BFS  \n",
    ">> DFS: Depth-First Search, 깊이우선 탐색, 그래프에서 깊은 부분을 우선으로 탐색하는 알고리즘. 두 가지 방식으로 표현 가능.  \n",
    ">>> 인접 행렬: 2차원 배열, 그래프의 연결 관계를 표현하는 방식 - 2차원 배열에 각 노드가 연결된 형태를 기록하는 방식. 연결되지 않은 노드끼리는 무한의 비용이라고 작성    \n",
    ">>> 인접 리스트: 리스트로 그래프의 연결 관계를 표현하는 방식 - 모든 노드에 연결된 노드에 대한 정보를 차례대로 연결하여 저장    \n",
    ">>> 메모리 측면: 인접 행렬 방식은 노드 개수가 많을 수록 메모리 낭비하게 됨 vs 인접 리스트: 효율적으로 사용 가능  \n",
    ">>> 속도: 인접 행렬 < 인접 리스트(더 느림)   \n",
    " \n",
    ">> BFS:Breadth First Search, 너비 우선 탐색, 가까운 노드부터 탐색하는 알고리즘  \n",
    ">>> 큐 자료 구조에 기초. deque 라이브러리 사용하는 게 좋음.\n",
    ">>> 일반적으로 수행 시간이 DFS보다 좋음\n",
    "\n",
    "  \n",
    "  \n",
    "> 자료구조: 데이터를 표현하고 관리하고 처리하기 위한 구조  \n",
    ">> 스택: 선입후출(FILO)  \n",
    ">> 큐: 선입선출(FIFO)\n",
    ">>> 큐 구현을 위해서는 deque 라이브러리를 이용해야 함 (from collections import deque)  \n",
    ">> Deque(데크)는 double-ended queue 의 줄임말로, 앞과 뒤에서 즉, 양방향에서 데이터를 처리할 수 있는 queue형 자료구조  \n",
    "  \n",
    "> 재귀 함수: 자기 자신을 다시 호출하는 함수  \n",
    ">> 문제에서 재귀 함수를 이용하기 위해서는 __재귀 함수가 언제 끝날지 종료 조건을 꼭 명시해야 한다.__\n"
   ]
  },
  {
   "cell_type": "code",
   "execution_count": null,
   "metadata": {},
   "outputs": [],
   "source": []
  }
 ],
 "metadata": {
  "kernelspec": {
   "display_name": "Python 3",
   "language": "python",
   "name": "python3"
  },
  "language_info": {
   "codemirror_mode": {
    "name": "ipython",
    "version": 3
   },
   "file_extension": ".py",
   "mimetype": "text/x-python",
   "name": "python",
   "nbconvert_exporter": "python",
   "pygments_lexer": "ipython3",
   "version": "3.8.3"
  }
 },
 "nbformat": 4,
 "nbformat_minor": 4
}
