{
 "cells": [
  {
   "cell_type": "code",
   "execution_count": 1,
   "metadata": {
    "scrolled": true
   },
   "outputs": [
    {
     "name": "stdout",
     "output_type": "stream",
     "text": [
      "[0, 1, 2, 3, 4, 5, 6, 7, 8, 9]\n"
     ]
    }
   ],
   "source": [
    "# 선택 정렬 p.159\n",
    "\n",
    "array = [7, 5, 9, 0, 3, 1, 6, 2, 4, 8]\n",
    "\n",
    "for i in range(len(array)):\n",
    "    min_index = i\n",
    "    for j in range(i+1, len(array)):\n",
    "        if array[min_index] > array[j]:\n",
    "            min_index=j\n",
    "    array[i], array[min_index] = array[min_index], array[i]\n",
    "\n",
    "print(array)"
   ]
  },
  {
   "cell_type": "code",
   "execution_count": 2,
   "metadata": {},
   "outputs": [
    {
     "name": "stdout",
     "output_type": "stream",
     "text": [
      "[0, 1, 2, 3, 4, 5, 6, 7, 8, 9]\n"
     ]
    }
   ],
   "source": [
    "# 삽입 정렬 p.164\n",
    "\n",
    "array = [7, 5, 9, 0, 3, 1, 6, 2, 4, 8]\n",
    "\n",
    "for i in range(1, len(array)): #array[1]부터 시작\n",
    "    for j in range(i, 0, -1):\n",
    "        if array[j]<array[j-1]: #한 칸씩 왼쪽으로 이동\n",
    "            array[j],array[j-1]=array[j-1], array[j]\n",
    "        else:\n",
    "            break\n",
    "print(array)"
   ]
  },
  {
   "cell_type": "code",
   "execution_count": 6,
   "metadata": {
    "scrolled": true
   },
   "outputs": [
    {
     "name": "stdout",
     "output_type": "stream",
     "text": [
      "[0, 1, 2, 3, 4, 5, 6, 7, 8, 9]\n"
     ]
    }
   ],
   "source": [
    "# 퀵 정렬 p.168\n",
    "\n",
    "array = [5,7,9,0,3,1,6,2,4,8]\n",
    "\n",
    "def quick_sort(array, start, end):\n",
    "    if start >= end:\n",
    "        return\n",
    "    pivot = start\n",
    "    left = start+1\n",
    "    right = end\n",
    "    while left <= right:\n",
    "        while left <= end and array[left]<=array[pivot]:\n",
    "            left +=1\n",
    "        while right> start and array[right]>=array[pivot]:\n",
    "            right -=1\n",
    "            \n",
    "        if left > right:\n",
    "            array[right], array[pivot] = array[pivot], array[right]\n",
    "        else:\n",
    "            array[left], array[right] = array[right], array[left]\n",
    "    \n",
    "    quick_sort(array, start, right-1)\n",
    "    quick_sort(array, right+1, end)\n",
    "    \n",
    "quick_sort(array, 0, len(array)-1)\n",
    "print(array)"
   ]
  },
  {
   "cell_type": "code",
   "execution_count": 8,
   "metadata": {},
   "outputs": [
    {
     "name": "stdout",
     "output_type": "stream",
     "text": [
      "[0, 1, 2, 3, 4, 5, 6, 7, 8, 9]\n"
     ]
    }
   ],
   "source": [
    "# 파이썬에서의 퀵 정렬 p.169\n",
    "\n",
    "array = [5,7,9,0,3,1,6,2,4,8]\n",
    "\n",
    "def quick_sort(array):\n",
    "    \n",
    "    if len(array) <=1:\n",
    "        return array\n",
    "    \n",
    "    pivot = array[0]\n",
    "    tail = array[1:]\n",
    "    \n",
    "    left_side = [x for x in tail if x<=pivot]\n",
    "    right_side = [x for x in tail if x> pivot]\n",
    "    \n",
    "    return quick_sort(left_side) + [pivot] + quick_sort(right_side)\n",
    "\n",
    "print(quick_sort(array))\n"
   ]
  },
  {
   "cell_type": "code",
   "execution_count": 10,
   "metadata": {},
   "outputs": [
    {
     "name": "stdout",
     "output_type": "stream",
     "text": [
      "0 0 1 1 2 2 3 4 5 5 6 7 8 9 9 "
     ]
    }
   ],
   "source": [
    "# 계수 정렬 p.174\n",
    "array = [7,5,9,0,3,1,6,2,9,1,4,8,0,5,2]\n",
    "\n",
    "count = [0]*(max(array)+1)\n",
    "\n",
    "for i in range(len(array)):\n",
    "    count[array[i]] +=1\n",
    "    \n",
    "for i in range(len(count)):\n",
    "    for j in range(count[i]):\n",
    "        print(i, end= ' ')"
   ]
  },
  {
   "cell_type": "code",
   "execution_count": 11,
   "metadata": {},
   "outputs": [
    {
     "name": "stdout",
     "output_type": "stream",
     "text": [
      "[0, 1, 2, 3, 4, 5, 6, 7, 8, 9]\n"
     ]
    }
   ],
   "source": [
    "# sorted 예제\n",
    "array = [7,5,9,0,3,1,6,2,4,8]\n",
    "\n",
    "result = sorted(array)\n",
    "print(result)"
   ]
  },
  {
   "cell_type": "code",
   "execution_count": 12,
   "metadata": {},
   "outputs": [
    {
     "name": "stdout",
     "output_type": "stream",
     "text": [
      "[0, 1, 2, 3, 4, 5, 6, 7, 8, 9]\n"
     ]
    }
   ],
   "source": [
    "# sort 예제 p.176\n",
    "array = [7,5,9,0,3,1,6,2,4,8]\n",
    "\n",
    "array.sort()\n",
    "print(array)"
   ]
  },
  {
   "cell_type": "code",
   "execution_count": 13,
   "metadata": {},
   "outputs": [
    {
     "name": "stdout",
     "output_type": "stream",
     "text": [
      "[('바나나', 2), ('당근', 3), ('사과', 5)]\n"
     ]
    }
   ],
   "source": [
    "# 정렬 라이브러리에서 key 활용\n",
    "\n",
    "array = [('바나나',2), ('사과',5), ('당근',3)]\n",
    "\n",
    "def setting(data):\n",
    "    return data[1]\n",
    "\n",
    "result = sorted(array, key=setting)\n",
    "print(result)"
   ]
  },
  {
   "cell_type": "markdown",
   "metadata": {},
   "source": [
    "# <6-2> 위에서 아래로 p.178"
   ]
  },
  {
   "cell_type": "markdown",
   "metadata": {},
   "source": [
    "## 내 풀이"
   ]
  },
  {
   "cell_type": "code",
   "execution_count": 22,
   "metadata": {},
   "outputs": [
    {
     "name": "stdout",
     "output_type": "stream",
     "text": [
      "3\n",
      "15\n",
      "27\n",
      "12\n",
      "27 15 12 "
     ]
    }
   ],
   "source": [
    "n = int(input())\n",
    "\n",
    "number_list=[]\n",
    "for i in range(n):\n",
    "    number_list.append(int(input()))\n",
    "    \n",
    "number_list.sort(reverse=True)\n",
    "\n",
    "for i in number_list:\n",
    "    print(i, end=' ')"
   ]
  },
  {
   "cell_type": "markdown",
   "metadata": {},
   "source": [
    "## 정답 풀이"
   ]
  },
  {
   "cell_type": "code",
   "execution_count": 23,
   "metadata": {},
   "outputs": [
    {
     "name": "stdout",
     "output_type": "stream",
     "text": [
      "3\n",
      "15\n",
      "27\n",
      "12\n",
      "27 15 12 "
     ]
    }
   ],
   "source": [
    "n = int(input())\n",
    "\n",
    "array=[]\n",
    "for i in range(n):\n",
    "    array.append(int(input()))\n",
    "\n",
    "array = sorted(array, reverse=True)\n",
    "\n",
    "for i in array:\n",
    "    print(i, end = ' ')"
   ]
  },
  {
   "cell_type": "markdown",
   "metadata": {},
   "source": [
    "# <6-3> 성적이 낮은 순서로 학생 출력하기 p.180"
   ]
  },
  {
   "cell_type": "markdown",
   "metadata": {},
   "source": [
    "## 내 풀이"
   ]
  },
  {
   "cell_type": "code",
   "execution_count": 31,
   "metadata": {},
   "outputs": [
    {
     "name": "stdout",
     "output_type": "stream",
     "text": [
      "2\n",
      "홍길동 95\n",
      "이순신 77\n",
      "이순신 홍길동 "
     ]
    }
   ],
   "source": [
    "n = int(input())\n",
    "\n",
    "score_list=[]\n",
    "for i in range(n):\n",
    "    input_tuple = tuple(map(str, input().split()))\n",
    "    score_list.append(input_tuple)\n",
    "    \n",
    "def setting(data):\n",
    "    return int(data[1])\n",
    "\n",
    "result = sorted(score_list, key = setting)\n",
    "\n",
    "for i in result:\n",
    "    print(i[0], end=' ')"
   ]
  },
  {
   "cell_type": "markdown",
   "metadata": {},
   "source": [
    "## 정답 풀이"
   ]
  },
  {
   "cell_type": "code",
   "execution_count": 33,
   "metadata": {},
   "outputs": [
    {
     "name": "stdout",
     "output_type": "stream",
     "text": [
      "2\n",
      "홍길동 95\n",
      "이순신 7\n",
      "이순신 홍길동 "
     ]
    }
   ],
   "source": [
    "n = int(input())\n",
    "\n",
    "array=[]\n",
    "for i in range(n):\n",
    "    input_data = input().split()\n",
    "    array.append((input_data[0], int(input_data[1])))\n",
    "    \n",
    "array = sorted(array, key=lambda student: student[1])\n",
    "\n",
    "for student in array:\n",
    "    print(student[0], end=' ')"
   ]
  },
  {
   "cell_type": "markdown",
   "metadata": {},
   "source": [
    "## 오늘 내용 정리\n",
    "\n",
    "1.  정렬\n",
    "> 정렬: 데이터를 특정한 기준에 따라서 순서대로 나열하는 것. 프로그램을 작성할 때 가장 많이 사용되는 알고리즘 중 하나.\n",
    ">> 선택 정렬: 매번 가장 작은 것을 선택  \n",
    ">>> 시간복잡도: O(N^2)  \n",
    ">>> 다른 정렬 알고리즘에 비해 비효율적  \n",
    ">>  \n",
    ">> 삽입정렬: 특정한 데이터를 적절한 위치에 __삽입__ 하는 정렬. 데이터가 거의 정렬되어 있을 때 효율적임.\n",
    ">>> 0step부터 n-1step까지를 보면 n개의 원소들은 오름차순으로 정렬되어 있음을 알 수 있다.\n",
    ">>> 시간복잡도: O(N^2) / 최선의 경우: O(N) # 거의 정렬되어 있을 때  \n",
    ">>  \n",
    ">> 퀵정렬: 가장 많이 사용하는 알고리즘. __기준을 설정한 다음 큰 수와 작은 수를 교환한 후 리스트를 반으로 나누는 방식으로 동작__  \n",
    ">>> 피벗이 사용됨. 피벗: 큰 수와 작은 수를 교환할 때 교환하기 위한 기준을 의미함.\n",
    ">>> 시간복잡도: O(NlogN) / 최악의 경우: O(N^2) # 거의 정렬되어 있을 때  \n",
    ">>  \n",
    ">> 계수 정렬: 특정한 조건이 부합할 때만 사용할 수 있찌만 매우 빠른 정렬 알고리즘\n",
    ">>> 시간복잡도: O(N+K)\n",
    ">>> 비교 기반의 정렬 알고리즘이 아님. \n",
    ">>> 단독으로 계수 정렬을 사용하는 문제는 나올 확률 적음. 때에 따라 비효율성 초래할 수 있음.  \n",
    ">>  \n",
    "> 파이썬 정렬 라이브러리\n",
    ">> sorted(), sort() 함수\n",
    ">>> 퀵 정렬과 동작 방식 비슷한 병합 정렬 기반\n",
    ">>> 시간복잡도: O(NlogN)  \n",
    ">>> key 매개변수 입력 받을 수 있음.  \n",
    ">>>> key 값은 하나의 함수가 들어가야하고 이는 정렬 기준이 됨\n",
    "  \n",
    "2. 역순으로 정렬하기  \n",
    "ex) array=[1,4,6]  \n",
    "    array = sorted(array,reverse=True)  \n",
    "    array.sort(reverse=True)  \n",
    "  \n",
    "3. 튜플 형태로 입력 받기\n",
    "ex) tuple_data = tuple(map(str, input().split()))  # list -> tuple로 바뀌기만 함  \n",
    "\n",
    "4. lambda 함수  \n",
    "lambda 인자 : 표현식  \n"
   ]
  },
  {
   "cell_type": "code",
   "execution_count": null,
   "metadata": {},
   "outputs": [],
   "source": []
  }
 ],
 "metadata": {
  "kernelspec": {
   "display_name": "Python 3",
   "language": "python",
   "name": "python3"
  },
  "language_info": {
   "codemirror_mode": {
    "name": "ipython",
    "version": 3
   },
   "file_extension": ".py",
   "mimetype": "text/x-python",
   "name": "python",
   "nbconvert_exporter": "python",
   "pygments_lexer": "ipython3",
   "version": "3.8.3"
  }
 },
 "nbformat": 4,
 "nbformat_minor": 4
}
